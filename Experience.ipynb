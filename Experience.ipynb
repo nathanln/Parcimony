{
 "cells": [
  {
   "cell_type": "markdown",
   "metadata": {},
   "source": [
    "<center>\n",
    "<h1> Comparaison des méthodes de screening pour le problème LASSO \n"
   ]
  },
  {
   "cell_type": "code",
   "execution_count": 1,
   "metadata": {},
   "outputs": [],
   "source": [
    "#Importation des modules necessaires\n",
    "from sklearn import linear_model\n",
    "from src.screening_rules import *\n",
    "from src.gen_data import *\n",
    "import time\n",
    "import matplotlib.pyplot as plt"
   ]
  },
  {
   "cell_type": "markdown",
   "metadata": {},
   "source": [
    "## Préambule"
   ]
  },
  {
   "cell_type": "markdown",
   "metadata": {},
   "source": [
    "Pour comparer les différentes méthodes de screening pour la résolution du problème LASSO, nous implémentons une fonction ``test_method`` qui prend en paramètre :\n",
    "* les données du problème X et y\n",
    "* une liste décroissante de paramètres de régularisation λ\n",
    "* une tolérance pour les méthodes de screening\n",
    "Celle-ci renvoie les temps d'execution pour chaque méthode ainsi que le nombre de variables éliminés avant la résolution du problème LASSO. Voici son implémentation : "
   ]
  },
  {
   "cell_type": "code",
   "execution_count": 14,
   "metadata": {},
   "outputs": [],
   "source": [
    "def test_method(X,y,λ, tol = 10^(-9),verbose=False):\n",
    "    p=len(X[1,:])\n",
    "    β=np.zeros(X.shape[1])\n",
    "\n",
    "\n",
    "    Tsasvi=[]\n",
    "    Tnormal=[]\n",
    "    Tstrong=[]\n",
    "    Tsafe=[]\n",
    "\n",
    "\n",
    "    nb_removed_sasvi=[]\n",
    "    nb_removed_strong=[]\n",
    "    nb_removed_safe=[]\n",
    "    nb_removed_lasso=[]\n",
    "\n",
    "\n",
    "\n",
    "    for i in range(len(λ)-1):\n",
    "        if(verbose):\n",
    "            print(\"#### Step n°{}/{} ####\".format(i+1,len(λ)-1))\n",
    "\n",
    "        θ1star=(y-np.dot(X,β))/λ[i]\n",
    "        a=get_parameter(y, λ[i], θ1star)\n",
    "        b=get_parameter(y, λ[i+1], θ1star)\n",
    "        \n",
    "        #SASVI SCREENING AND FITTING\n",
    "        start=time.time()\n",
    "        to_drop_sasvi=sasvi(X,y,a,b,λ[i],λ[i+1], θ1star, tol=tol)\n",
    "        tmp_time=(time.time()-start)\n",
    "\n",
    "        X_sasvi = np.delete(X, to_drop_sasvi, 1)\n",
    "        nb_removed_sasvi.append(np.shape(to_drop_sasvi)[1])\n",
    "        if(verbose):\n",
    "            print(\"Number of variables removed with sasvi :\",np.shape(to_drop_sasvi)[1])\n",
    "\n",
    "        start=time.time()\n",
    "        if X_sasvi.shape[1] != 0:\n",
    "            clf = linear_model.Lasso(alpha=λ[i+1]/X.shape[0])\n",
    "            clf.fit(X_sasvi,y)\n",
    "        Tsasvi.append(tmp_time+time.time()-start)\n",
    "\n",
    "        #STRONG RULE SCREENING AND FITTING\n",
    "        to_drop_strong=strong_rule(X,θ1star, λ[i+1], λ[i], tol=tol)\n",
    "        X_strong = np.delete(X, to_drop_strong, 1)\n",
    "        nb_removed_strong.append(np.shape(to_drop_strong)[1])\n",
    "        if(verbose):\n",
    "            print(\"Number of variables removed with strong rule :\",np.shape(to_drop_strong)[1])\n",
    "\n",
    "        start=time.time()\n",
    "        if X_strong.shape[1] != 0:\n",
    "            clf = linear_model.Lasso(alpha=λ[i+1]/X.shape[0])\n",
    "            clf.fit(X_strong,y)\n",
    "        Tstrong.append(time.time()-start)\n",
    "\n",
    "        #SAFE RULE SCREENING AND FITTING\n",
    "        to_drop_safe=safe_screening(X,y,θ1star, λ[i+1], tol=tol)\n",
    "        X_safe = np.delete(X, to_drop_safe, 1)\n",
    "        nb_removed_safe.append(np.shape(to_drop_safe)[1])\n",
    "        if(verbose):\n",
    "            print(\"Number of variables removed with safe rule :\",np.shape(to_drop_safe)[1])\n",
    "\n",
    "        start=time.time()\n",
    "        if X_safe.shape[1] != 0:\n",
    "            clf = linear_model.Lasso(alpha=λ[i+1]/X.shape[0])\n",
    "            clf.fit(X_safe,y)\n",
    "        Tsafe.append(time.time()-start)\n",
    "\n",
    "\n",
    "        #NO SCREENING FITTING  \n",
    "        start=time.time()\n",
    "        clf = linear_model.Lasso(alpha=λ[i+1]/X.shape[0])\n",
    "        clf.fit(X,y)\n",
    "        Tnormal.append(time.time()-start)\n",
    "        β=clf.coef_\n",
    "        nb_removed_lasso.append(np.sum(np.abs(β) < tol)) \n",
    "        if(verbose):\n",
    "            print(\"Number of variables removed exactly :\",nb_removed_lasso[-1])\n",
    "        \n",
    "    return(Tsasvi,Tnormal,Tstrong,Tsafe,nb_removed_sasvi,nb_removed_strong,nb_removed_safe, nb_removed_lasso)"
   ]
  },
  {
   "cell_type": "markdown",
   "metadata": {},
   "source": [
    "Nous implémentons aussi la fonction ``plot_res`` pour visualiser les sorties de la fonction précédente. Voici son implémentation : "
   ]
  },
  {
   "cell_type": "code",
   "execution_count": 3,
   "metadata": {},
   "outputs": [],
   "source": [
    "def plot_res(Tsasvi,Tnormal,Tstrong,Tsafe,nb_removed_sasvi,nb_removed_strong,nb_removed_safe,nb_removed_lasso, λ, λ_max, p):\n",
    "\n",
    "    plt.figure(figsize=(12,8))\n",
    "    plt.plot(λ[list(range(1,len(Tnormal)+1))]/λ_max,Tnormal,label='Normal')\n",
    "    plt.plot(λ[list(range(1,len(Tnormal)+1))]/λ_max,Tsasvi,label='Sasvi')\n",
    "    plt.plot(λ[list(range(1,len(Tnormal)+1))]/λ_max,Tstrong,label='Strong')\n",
    "    plt.plot(λ[list(range(1,len(Tnormal)+1))]/λ_max,Tsafe,label='Safe')\n",
    "    plt.legend()\n",
    "    plt.xlabel(\"λ/λ_max\")\n",
    "    plt.ylabel(\"Time\")\n",
    "    plt.title(\"Time to compute as a function of λ/λ_max\")\n",
    "\n",
    "    plt.figure(figsize=(12,8))\n",
    "    plt.plot(λ[list(range(1,len(Tnormal)+1))]/λ_max,np.array(nb_removed_lasso)/p,label='(Exact) Nb null coefficients',linestyle=\"dashed\")\n",
    "    plt.plot(λ[list(range(1,len(Tnormal)+1))]/λ_max,np.array(nb_removed_sasvi)/p,label='Sasvi')\n",
    "    plt.plot(λ[list(range(1,len(Tnormal)+1))]/λ_max,np.array(nb_removed_strong)/p,label='Strong')\n",
    "    plt.plot(λ[list(range(1,len(Tnormal)+1))]/λ_max,np.array(nb_removed_safe)/p,label='Safe')\n",
    "    plt.legend()\n",
    "    plt.xlabel(\"λ/λ_max\")\n",
    "    plt.ylabel(\"Nb removed/Total nb of variables\")\n",
    "    plt.title(\"Proportion of removed variables as a function of λ/λ_max\")"
   ]
  },
  {
   "cell_type": "markdown",
   "metadata": {},
   "source": [
    "## Application à la base de données MNIST"
   ]
  },
  {
   "cell_type": "markdown",
   "metadata": {},
   "source": [
    "Nous générons les données de MNIST (cf rapport pour détails)."
   ]
  },
  {
   "cell_type": "code",
   "execution_count": 4,
   "metadata": {},
   "outputs": [],
   "source": [
    "[X,y]=gen_data_MNIST()\n",
    "p=len(X[1,:])\n",
    "λ_max=np.max(np.abs(np.dot(y,X)))\n",
    "λ=np.linspace(1,0.05,20)*λ_max"
   ]
  },
  {
   "cell_type": "code",
   "execution_count": 15,
   "metadata": {},
   "outputs": [
    {
     "name": "stdout",
     "output_type": "stream",
     "text": [
      "#### Step n°1/19 ####\n",
      "Number of variables removed with sasvi : 0\n",
      "Number of variables removed with strong rule : 0\n",
      "Number of variables removed with safe rule : 0\n",
      "Number of variables removed exactly : 50000\n",
      "#### Step n°2/19 ####\n",
      "Number of variables removed with sasvi : 0\n",
      "Number of variables removed with strong rule : 0\n",
      "Number of variables removed with safe rule : 0\n",
      "Number of variables removed exactly : 50000\n",
      "#### Step n°3/19 ####\n",
      "Number of variables removed with sasvi : 0\n",
      "Number of variables removed with strong rule : 0\n"
     ]
    },
    {
     "ename": "KeyboardInterrupt",
     "evalue": "",
     "output_type": "error",
     "traceback": [
      "\u001b[1;31m---------------------------------------------------------------------------\u001b[0m",
      "\u001b[1;31mKeyboardInterrupt\u001b[0m                         Traceback (most recent call last)",
      "\u001b[1;32m<ipython-input-15-7b09e73d9c16>\u001b[0m in \u001b[0;36m<module>\u001b[1;34m\u001b[0m\n\u001b[1;32m----> 1\u001b[1;33m \u001b[0mTsasvi\u001b[0m\u001b[1;33m,\u001b[0m\u001b[0mTnormal\u001b[0m\u001b[1;33m,\u001b[0m\u001b[0mTstrong\u001b[0m\u001b[1;33m,\u001b[0m\u001b[0mTsafe\u001b[0m\u001b[1;33m,\u001b[0m\u001b[0mnb_removed_sasvi\u001b[0m\u001b[1;33m,\u001b[0m\u001b[0mnb_removed_strong\u001b[0m\u001b[1;33m,\u001b[0m\u001b[0mnb_removed_safe\u001b[0m\u001b[1;33m,\u001b[0m \u001b[0mnb_removed_lasso\u001b[0m\u001b[1;33m=\u001b[0m\u001b[0mtest_method\u001b[0m\u001b[1;33m(\u001b[0m\u001b[0mX\u001b[0m\u001b[1;33m,\u001b[0m\u001b[0my\u001b[0m\u001b[1;33m,\u001b[0m \u001b[0mλ\u001b[0m\u001b[1;33m,\u001b[0m \u001b[0mλ_max\u001b[0m\u001b[1;33m,\u001b[0m\u001b[1;32mTrue\u001b[0m\u001b[1;33m)\u001b[0m\u001b[1;33m\u001b[0m\u001b[1;33m\u001b[0m\u001b[0m\n\u001b[0m\u001b[0;32m      2\u001b[0m \u001b[0mplot_res\u001b[0m\u001b[1;33m(\u001b[0m\u001b[0mTsasvi\u001b[0m\u001b[1;33m,\u001b[0m\u001b[0mTnormal\u001b[0m\u001b[1;33m,\u001b[0m\u001b[0mTstrong\u001b[0m\u001b[1;33m,\u001b[0m\u001b[0mTsafe\u001b[0m\u001b[1;33m,\u001b[0m\u001b[0mnb_removed_sasvi\u001b[0m\u001b[1;33m,\u001b[0m\u001b[0mnb_removed_strong\u001b[0m\u001b[1;33m,\u001b[0m\u001b[0mnb_removed_safe\u001b[0m\u001b[1;33m,\u001b[0m\u001b[0mnb_removed_lasso\u001b[0m\u001b[1;33m,\u001b[0m\u001b[0mλ\u001b[0m\u001b[1;33m,\u001b[0m \u001b[0mλ_max\u001b[0m\u001b[1;33m,\u001b[0m\u001b[0mp\u001b[0m\u001b[1;33m)\u001b[0m\u001b[1;33m\u001b[0m\u001b[1;33m\u001b[0m\u001b[0m\n",
      "\u001b[1;32m<ipython-input-14-a5ea76aed271>\u001b[0m in \u001b[0;36mtest_method\u001b[1;34m(X, y, λ, tol, verbose)\u001b[0m\n\u001b[0;32m     51\u001b[0m         \u001b[1;32mif\u001b[0m \u001b[0mX_strong\u001b[0m\u001b[1;33m.\u001b[0m\u001b[0mshape\u001b[0m\u001b[1;33m[\u001b[0m\u001b[1;36m1\u001b[0m\u001b[1;33m]\u001b[0m \u001b[1;33m!=\u001b[0m \u001b[1;36m0\u001b[0m\u001b[1;33m:\u001b[0m\u001b[1;33m\u001b[0m\u001b[1;33m\u001b[0m\u001b[0m\n\u001b[0;32m     52\u001b[0m             \u001b[0mclf\u001b[0m \u001b[1;33m=\u001b[0m \u001b[0mlinear_model\u001b[0m\u001b[1;33m.\u001b[0m\u001b[0mLasso\u001b[0m\u001b[1;33m(\u001b[0m\u001b[0malpha\u001b[0m\u001b[1;33m=\u001b[0m\u001b[0mλ\u001b[0m\u001b[1;33m[\u001b[0m\u001b[0mi\u001b[0m\u001b[1;33m+\u001b[0m\u001b[1;36m1\u001b[0m\u001b[1;33m]\u001b[0m\u001b[1;33m/\u001b[0m\u001b[0mX\u001b[0m\u001b[1;33m.\u001b[0m\u001b[0mshape\u001b[0m\u001b[1;33m[\u001b[0m\u001b[1;36m0\u001b[0m\u001b[1;33m]\u001b[0m\u001b[1;33m)\u001b[0m\u001b[1;33m\u001b[0m\u001b[1;33m\u001b[0m\u001b[0m\n\u001b[1;32m---> 53\u001b[1;33m             \u001b[0mclf\u001b[0m\u001b[1;33m.\u001b[0m\u001b[0mfit\u001b[0m\u001b[1;33m(\u001b[0m\u001b[0mX_strong\u001b[0m\u001b[1;33m,\u001b[0m\u001b[0my\u001b[0m\u001b[1;33m)\u001b[0m\u001b[1;33m\u001b[0m\u001b[1;33m\u001b[0m\u001b[0m\n\u001b[0m\u001b[0;32m     54\u001b[0m         \u001b[0mTstrong\u001b[0m\u001b[1;33m.\u001b[0m\u001b[0mappend\u001b[0m\u001b[1;33m(\u001b[0m\u001b[0mtime\u001b[0m\u001b[1;33m.\u001b[0m\u001b[0mtime\u001b[0m\u001b[1;33m(\u001b[0m\u001b[1;33m)\u001b[0m\u001b[1;33m-\u001b[0m\u001b[0mstart\u001b[0m\u001b[1;33m)\u001b[0m\u001b[1;33m\u001b[0m\u001b[1;33m\u001b[0m\u001b[0m\n\u001b[0;32m     55\u001b[0m \u001b[1;33m\u001b[0m\u001b[0m\n",
      "\u001b[1;32m~\\AppData\\Local\\Programs\\Python\\Python38\\lib\\site-packages\\sklearn\\linear_model\\_coordinate_descent.py\u001b[0m in \u001b[0;36mfit\u001b[1;34m(self, X, y, sample_weight, check_input)\u001b[0m\n\u001b[0;32m   1037\u001b[0m             \u001b[1;32melse\u001b[0m\u001b[1;33m:\u001b[0m\u001b[1;33m\u001b[0m\u001b[1;33m\u001b[0m\u001b[0m\n\u001b[0;32m   1038\u001b[0m                 \u001b[0mthis_Xy\u001b[0m \u001b[1;33m=\u001b[0m \u001b[1;32mNone\u001b[0m\u001b[1;33m\u001b[0m\u001b[1;33m\u001b[0m\u001b[0m\n\u001b[1;32m-> 1039\u001b[1;33m             _, this_coef, this_dual_gap, this_iter = self.path(\n\u001b[0m\u001b[0;32m   1040\u001b[0m                 \u001b[0mX\u001b[0m\u001b[1;33m,\u001b[0m\u001b[1;33m\u001b[0m\u001b[1;33m\u001b[0m\u001b[0m\n\u001b[0;32m   1041\u001b[0m                 \u001b[0my\u001b[0m\u001b[1;33m[\u001b[0m\u001b[1;33m:\u001b[0m\u001b[1;33m,\u001b[0m \u001b[0mk\u001b[0m\u001b[1;33m]\u001b[0m\u001b[1;33m,\u001b[0m\u001b[1;33m\u001b[0m\u001b[1;33m\u001b[0m\u001b[0m\n",
      "\u001b[1;32m~\\AppData\\Local\\Programs\\Python\\Python38\\lib\\site-packages\\sklearn\\linear_model\\_coordinate_descent.py\u001b[0m in \u001b[0;36menet_path\u001b[1;34m(X, y, l1_ratio, eps, n_alphas, alphas, precompute, Xy, copy_X, coef_init, verbose, return_n_iter, positive, check_input, **params)\u001b[0m\n\u001b[0;32m    645\u001b[0m             )\n\u001b[0;32m    646\u001b[0m         \u001b[1;32melif\u001b[0m \u001b[0mprecompute\u001b[0m \u001b[1;32mis\u001b[0m \u001b[1;32mFalse\u001b[0m\u001b[1;33m:\u001b[0m\u001b[1;33m\u001b[0m\u001b[1;33m\u001b[0m\u001b[0m\n\u001b[1;32m--> 647\u001b[1;33m             model = cd_fast.enet_coordinate_descent(\n\u001b[0m\u001b[0;32m    648\u001b[0m                 \u001b[0mcoef_\u001b[0m\u001b[1;33m,\u001b[0m \u001b[0ml1_reg\u001b[0m\u001b[1;33m,\u001b[0m \u001b[0ml2_reg\u001b[0m\u001b[1;33m,\u001b[0m \u001b[0mX\u001b[0m\u001b[1;33m,\u001b[0m \u001b[0my\u001b[0m\u001b[1;33m,\u001b[0m \u001b[0mmax_iter\u001b[0m\u001b[1;33m,\u001b[0m \u001b[0mtol\u001b[0m\u001b[1;33m,\u001b[0m \u001b[0mrng\u001b[0m\u001b[1;33m,\u001b[0m \u001b[0mrandom\u001b[0m\u001b[1;33m,\u001b[0m \u001b[0mpositive\u001b[0m\u001b[1;33m\u001b[0m\u001b[1;33m\u001b[0m\u001b[0m\n\u001b[0;32m    649\u001b[0m             )\n",
      "\u001b[1;32msklearn\\linear_model\\_cd_fast.pyx\u001b[0m in \u001b[0;36msklearn.linear_model._cd_fast.enet_coordinate_descent\u001b[1;34m()\u001b[0m\n",
      "\u001b[1;32m~\\AppData\\Local\\Programs\\Python\\Python38\\lib\\site-packages\\numpy\\core\\_methods.py\u001b[0m in \u001b[0;36m_sum\u001b[1;34m(a, axis, dtype, out, keepdims, initial, where)\u001b[0m\n\u001b[0;32m     45\u001b[0m def _sum(a, axis=None, dtype=None, out=None, keepdims=False,\n\u001b[0;32m     46\u001b[0m          initial=_NoValue, where=True):\n\u001b[1;32m---> 47\u001b[1;33m     \u001b[1;32mreturn\u001b[0m \u001b[0mumr_sum\u001b[0m\u001b[1;33m(\u001b[0m\u001b[0ma\u001b[0m\u001b[1;33m,\u001b[0m \u001b[0maxis\u001b[0m\u001b[1;33m,\u001b[0m \u001b[0mdtype\u001b[0m\u001b[1;33m,\u001b[0m \u001b[0mout\u001b[0m\u001b[1;33m,\u001b[0m \u001b[0mkeepdims\u001b[0m\u001b[1;33m,\u001b[0m \u001b[0minitial\u001b[0m\u001b[1;33m,\u001b[0m \u001b[0mwhere\u001b[0m\u001b[1;33m)\u001b[0m\u001b[1;33m\u001b[0m\u001b[1;33m\u001b[0m\u001b[0m\n\u001b[0m\u001b[0;32m     48\u001b[0m \u001b[1;33m\u001b[0m\u001b[0m\n\u001b[0;32m     49\u001b[0m def _prod(a, axis=None, dtype=None, out=None, keepdims=False,\n",
      "\u001b[1;31mKeyboardInterrupt\u001b[0m: "
     ]
    }
   ],
   "source": [
    "Tsasvi,Tnormal,Tstrong,Tsafe,nb_removed_sasvi,nb_removed_strong,nb_removed_safe, nb_removed_lasso=test_method(X,y, λ, λ_max,True)\n",
    "plot_res(Tsasvi,Tnormal,Tstrong,Tsafe,nb_removed_sasvi,nb_removed_strong,nb_removed_safe,nb_removed_lasso,λ, λ_max,p)"
   ]
  },
  {
   "cell_type": "markdown",
   "metadata": {},
   "source": [
    "## Application à la base de données PIE"
   ]
  }
 ],
 "metadata": {
  "interpreter": {
   "hash": "dc814d9826ad847a7c2bab0a4bf1cc31a7fa629481b5e7d9bdbde68d882e8c97"
  },
  "kernelspec": {
   "display_name": "Python 3.8.7 64-bit",
   "language": "python",
   "name": "python3"
  },
  "language_info": {
   "codemirror_mode": {
    "name": "ipython",
    "version": 3
   },
   "file_extension": ".py",
   "mimetype": "text/x-python",
   "name": "python",
   "nbconvert_exporter": "python",
   "pygments_lexer": "ipython3",
   "version": "3.8.7"
  },
  "orig_nbformat": 4
 },
 "nbformat": 4,
 "nbformat_minor": 2
}
