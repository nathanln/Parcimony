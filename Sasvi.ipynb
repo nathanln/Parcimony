{
 "cells": [
  {
   "cell_type": "markdown",
   "metadata": {},
   "source": [
    "# IMPORTS"
   ]
  },
  {
   "cell_type": "code",
   "execution_count": 1,
   "metadata": {},
   "outputs": [],
   "source": [
    "from matplotlib import pyplot as plt\n",
    "import random\n",
    "import itertools\n",
    "from keras.datasets import mnist\n",
    "from sklearn import linear_model\n",
    "from sklearn.model_selection import train_test_split\n",
    "from sklearn.model_selection import cross_val_score\n",
    "import time\n",
    "import warnings\n",
    "import numpy as np\n",
    "import scipy.io as sio\n",
    "\n",
    "warnings.filterwarnings('ignore')"
   ]
  },
  {
   "cell_type": "markdown",
   "metadata": {},
   "source": [
    "# SASVI"
   ]
  },
  {
   "cell_type": "code",
   "execution_count": 2,
   "metadata": {},
   "outputs": [],
   "source": [
    "def get_a(lambda1, θ1star):\n",
    "    return(-θ1star+y/lambda1)\n",
    "\n",
    "def get_b(lambda2, θ1star):\n",
    "    return(-θ1star+y/lambda2)\n",
    "\n",
    "def x_ort(x,a,b):\n",
    "    return(x-np.outer(a,np.dot(x.T,a))/(np.linalg.norm(a)**2))\n",
    "\n",
    "def y_ort(y,a,b):\n",
    "    return(y-a*np.dot(y,a)/(np.linalg.norm(a)**2))"
   ]
  },
  {
   "cell_type": "code",
   "execution_count": 3,
   "metadata": {},
   "outputs": [],
   "source": [
    "def sasvi(X,a,b,λ1,λ2, θ1star, Xort, yort, p):\n",
    "    tol=10^(-9)\n",
    "\n",
    "    normX = np.linalg.norm(X,axis=0)\n",
    "    normb = np.linalg.norm(b)\n",
    "    Xtb = np.dot(X.T,b)\n",
    "    Xttheta = np.dot(X.T,θ1star)\n",
    "\n",
    "    if((np.linalg.norm(a)/float(a.size)) < tol):\n",
    "\n",
    "        Xta = np.dot(X.T,a)\n",
    "        norma = np.linalg.norm(a)\n",
    "\n",
    "        bool_vec=(np.any(a)!=0 and np.dot(b,a)/(normb*norma)>np.abs(Xta)/normX*norma)\n",
    "        uplus=bool_vec*Xttheta+(1/λ2-1/λ1)/2*(np.linalg.norm(Xort,axis=0)*np.linalg.norm(yort)+np.dot(Xort.T,yort))\n",
    "        uminus=bool_vec*(-Xttheta)+(1/λ2-1/λ1)/2*(np.linalg.norm(Xort,axis=0)*np.linalg.norm(yort)-np.dot(Xort.T,yort))\n",
    "\n",
    "        bool_vec=(((Xta >0) & (np.dot(b,a)/(normb*norma)<=Xta/normX*norma)))\n",
    "        uminus+=bool_vec*(-Xttheta+1/2*(normX*normb-Xtb))\n",
    "\n",
    "        bool_vec=(((Xta<0) & (np.dot(b,a)/(normb*norma)<=-Xta/normX*norma)))\n",
    "        uplus+=bool_vec*(Xttheta+1/2*(normX*normb+Xtb))\n",
    "\n",
    "    else:\n",
    "        uminus=(-Xttheta+1/2*(normX*normb-Xtb))\n",
    "        uplus=(Xttheta+1/2*(normX*normb+Xtb))\n",
    "        \n",
    "    \n",
    "    return(np.where((uplus<1-tol) & (uminus<1-tol)))\n",
    "\n",
    "\n",
    "\n"
   ]
  },
  {
   "cell_type": "markdown",
   "metadata": {},
   "source": [
    "# Other screening rules"
   ]
  },
  {
   "cell_type": "code",
   "execution_count": 4,
   "metadata": {},
   "outputs": [],
   "source": [
    "def strong_rule(X,y,theta_before, lamb, lamb_before):\n",
    "    tol = 10^(-32)\n",
    "    return np.where(((lamb_before/lamb)*np.abs(np.dot(X.T,theta_before)) + ((lamb_before/lamb) -1))<1-tol)\n",
    "\n",
    "def safe_screening(X,y,theta_before, lamb, lamb_before):\n",
    "    tol = 10^(-9)\n",
    "    s_star = np.max([np.min([np.dot(theta_before.T,y)/(lamb*np.linalg.norm(theta_before)),1]),-1])\n",
    "    return np.where((np.abs(np.dot(X.T,y))/lamb + np.linalg.norm(X,axis=0)*np.linalg.norm(s_star*theta_before-y/lamb))<1-tol)\n",
    "\n",
    "def safe_screening2(X,y,theta_before, lamb, lamb_before,lmax):\n",
    "    tol = 10^(-9)\n",
    "    lhs = np.abs(X.T.dot(y))\n",
    "    rhs = lamb - np.linalg.norm(X,axis=0) * np.linalg.norm(y) * (lmax - lamb)/lmax \n",
    "    inds = np.where(lhs < rhs - tol)\n",
    "    return inds"
   ]
  },
  {
   "cell_type": "markdown",
   "metadata": {},
   "source": [
    "# Functions to compare methods and plot the comparison"
   ]
  },
  {
   "cell_type": "code",
   "execution_count": 6,
   "metadata": {},
   "outputs": [],
   "source": [
    "def test_method(X,y,λ,λ_max, verbose=False):\n",
    "    p=len(X[1,:])\n",
    "    β=np.zeros(X.shape[1])\n",
    "\n",
    "\n",
    "    Tsasvi=[]\n",
    "    Tnormal=[]\n",
    "    Tstrong=[]\n",
    "    Tsafe=[]\n",
    "\n",
    "\n",
    "    nb_removed_sasvi=[]\n",
    "    nb_removed_strong=[]\n",
    "    nb_removed_safe=[]\n",
    "\n",
    "\n",
    "\n",
    "    for i in range(len(λ)-1):\n",
    "        if(verbose):\n",
    "            print(\"#### Step n°{}/{} ####\".format(i+1,len(λ)-1))\n",
    "\n",
    "        θ1star=(y-np.dot(X,β))/λ[i]\n",
    "        a=get_a(λ[i], θ1star)\n",
    "        b=get_b(λ[i+1], θ1star)\n",
    "        yort=y_ort(y,a,b)\n",
    "        Xort=x_ort(X,a,b)\n",
    "        \n",
    "        #SASVI SCREENING AND FITTING\n",
    "        start=time.time()\n",
    "        to_drop_sasvi1=sasvi(X,a,b,λ[i],λ[i+1], θ1star, Xort,yort, p)\n",
    "        tmp_time=(time.time()-start)\n",
    "\n",
    "        X_sasvi = np.delete(X, to_drop_sasvi1, 1)\n",
    "        nb_removed_sasvi.append(np.shape(to_drop_sasvi1)[1])\n",
    "        if(verbose):\n",
    "            print(\"Number of variables removed with sasvi :\",np.shape(to_drop_sasvi1)[1])\n",
    "\n",
    "        start=time.time()\n",
    "        if X_sasvi.shape[1] != 0:\n",
    "            clf = linear_model.Lasso(alpha=λ[i+1]/X.shape[0])\n",
    "            clf.fit(X_sasvi,y)\n",
    "        Tsasvi.append(tmp_time+time.time()-start)\n",
    "\n",
    "        #STRONG RULE SCREENING AND FITTING\n",
    "        to_drop_strong1=strong_rule(X,y,θ1star, λ[i+1], λ[i])\n",
    "        X_strong = np.delete(X, to_drop_strong1, 1)\n",
    "        nb_removed_strong.append(np.shape(to_drop_strong1)[1])\n",
    "        if(verbose):\n",
    "            print(\"Number of variables removed with strong rule :\",np.shape(to_drop_strong1)[1])\n",
    "\n",
    "        start=time.time()\n",
    "        if X_strong.shape[1] != 0:\n",
    "            clf = linear_model.Lasso(alpha=λ[i+1]/X.shape[0])\n",
    "            clf.fit(X_strong,y)\n",
    "        Tstrong.append(time.time()-start)\n",
    "\n",
    "        #SAFE RULE SCREENING AND FITTING\n",
    "        to_drop_safe1=safe_screening(X,y,θ1star, λ[i+1], λ[i])\n",
    "        # to_drop_safe1=safe_screening2(X,y,θ1star, λ[i+1], λ[i],λ[0])\n",
    "        X_safe = np.delete(X, to_drop_safe1, 1)\n",
    "        nb_removed_safe.append(np.shape(to_drop_safe1)[1])\n",
    "        if(verbose):\n",
    "            print(\"Number of variables removed with safe rule :\",np.shape(to_drop_safe1)[1])\n",
    "\n",
    "        start=time.time()\n",
    "        if X_safe.shape[1] != 0:\n",
    "            clf = linear_model.Lasso(alpha=λ[i+1]/X.shape[0])\n",
    "            clf.fit(X_safe,y)\n",
    "        Tsafe.append(time.time()-start)\n",
    "\n",
    "\n",
    "        #NO SCREENING FITTING  \n",
    "        start=time.time()\n",
    "        clf = linear_model.Lasso(alpha=λ[i+1]/X.shape[0])\n",
    "        clf.fit(X,y)\n",
    "        Tnormal.append(time.time()-start)\n",
    "        β=clf.coef_\n",
    "        \n",
    "    return(Tsasvi,Tnormal,Tstrong,Tsafe,nb_removed_sasvi,nb_removed_strong,nb_removed_safe)"
   ]
  },
  {
   "cell_type": "code",
   "execution_count": 7,
   "metadata": {},
   "outputs": [],
   "source": [
    "def plot_res(Tsasvi,Tnormal,Tstrong,Tsafe,nb_removed_sasvi,nb_removed_strong,nb_removed_safe, λ, λ_max, p):\n",
    "\n",
    "    plt.figure(figsize=(12,8))\n",
    "    plt.plot(λ[list(range(1,len(Tnormal)+1))]/λ_max,Tnormal,label='Normal')\n",
    "    plt.plot(λ[list(range(1,len(Tnormal)+1))]/λ_max,Tsasvi,label='Sasvi')\n",
    "    plt.plot(λ[list(range(1,len(Tnormal)+1))]/λ_max,Tstrong,label='Strong')\n",
    "    plt.plot(λ[list(range(1,len(Tnormal)+1))]/λ_max,Tsafe,label='Safe')\n",
    "    plt.legend()\n",
    "    plt.xlabel(\"λ/λ_max\")\n",
    "    plt.ylabel(\"Time\")\n",
    "    plt.title(\"Time to compute as a function of λ/λ_max\")\n",
    "\n",
    "    plt.figure(figsize=(12,8))\n",
    "    plt.plot(λ[list(range(1,len(Tnormal)+1))]/λ_max,np.array(nb_removed_sasvi)/p,label='Sasvi')\n",
    "    plt.plot(λ[list(range(1,len(Tnormal)+1))]/λ_max,np.array(nb_removed_strong)/p,label='Strong')\n",
    "    plt.plot(λ[list(range(1,len(Tnormal)+1))]/λ_max,np.array(nb_removed_safe)/p,label='Safe')\n",
    "    plt.legend()\n",
    "    plt.xlabel(\"λ/λ_max\")\n",
    "    plt.ylabel(\"Nb removed/Total nb of variables\")\n",
    "    plt.title(\"Proportion of removed variables as a function of λ/λ_max\")"
   ]
  },
  {
   "cell_type": "markdown",
   "metadata": {},
   "source": [
    "# MNIST example"
   ]
  },
  {
   "cell_type": "code",
   "execution_count": 8,
   "metadata": {},
   "outputs": [],
   "source": [
    "def gen_data_MNIST():\n",
    "    (train_X, train_y), (test_X, test_y) = mnist.load_data()\n",
    "    ind=[[]]*10\n",
    "    for i in range(10):\n",
    "        ind[i]=random.sample([j for j in range(np.shape(train_X)[0]) if train_y[j]==i],5000)\n",
    "    ind=list(itertools.chain.from_iterable(ind))\n",
    "    X=np.zeros([784,50000])\n",
    "    for i in range(50000):\n",
    "        X[:,i]=train_X[ind[i]].flatten()\n",
    "    y=test_X[random.sample(range(np.shape(test_y)[0]),1)[0]].flatten()\n",
    "    return(X,y)"
   ]
  },
  {
   "cell_type": "code",
   "execution_count": 9,
   "metadata": {},
   "outputs": [],
   "source": [
    "[X,y]=gen_data_MNIST()\n",
    "p=len(X[1,:])\n",
    "λ_max=np.max(np.abs(np.dot(y,X)))\n",
    "λ=np.linspace(1,0.05,20)*λ_max"
   ]
  },
  {
   "cell_type": "code",
   "execution_count": 111,
   "metadata": {},
   "outputs": [
    {
     "data": {
      "text/plain": [
       "<matplotlib.image.AxesImage at 0x1fb58bbb310>"
      ]
     },
     "execution_count": 111,
     "metadata": {},
     "output_type": "execute_result"
    },
    {
     "data": {
      "image/png": "[encoded data removed]",
      "text/plain": [
       "<Figure size 432x288 with 1 Axes>"
      ]
     },
     "metadata": {
      "needs_background": "light"
     },
     "output_type": "display_data"
    }
   ],
   "source": [
    "plt.imshow(y.reshape(28,28))"
   ]
  },
  {
   "cell_type": "code",
   "execution_count": 10,
   "metadata": {},
   "outputs": [
    {
     "name": "stdout",
     "output_type": "stream",
     "text": [
      "#### Step n°1/19 ####\n",
      "Number of variables removed with sasvi : 50000\n",
      "Number of variables removed with strong rule : 50000\n",
      "Number of variables removed with safe rule : 50000\n",
      "#### Step n°2/19 ####\n",
      "Number of variables removed with sasvi : 50000\n",
      "Number of variables removed with strong rule : 50000\n",
      "Number of variables removed with safe rule : 50000\n",
      "#### Step n°3/19 ####\n",
      "Number of variables removed with sasvi : 50000\n",
      "Number of variables removed with strong rule : 50000\n",
      "Number of variables removed with safe rule : 50000\n",
      "#### Step n°4/19 ####\n"
     ]
    },
    {
     "ename": "KeyboardInterrupt",
     "evalue": "",
     "output_type": "error",
     "traceback": [
      "\u001b[1;31m---------------------------------------------------------------------------\u001b[0m",
      "\u001b[1;31mKeyboardInterrupt\u001b[0m                         Traceback (most recent call last)",
      "\u001b[1;32m<ipython-input-10-9218259d6364>\u001b[0m in \u001b[0;36m<module>\u001b[1;34m\u001b[0m\n\u001b[1;32m----> 1\u001b[1;33m \u001b[0mTsasvi\u001b[0m\u001b[1;33m,\u001b[0m\u001b[0mTnormal\u001b[0m\u001b[1;33m,\u001b[0m\u001b[0mTstrong\u001b[0m\u001b[1;33m,\u001b[0m\u001b[0mTsafe\u001b[0m\u001b[1;33m,\u001b[0m\u001b[0mnb_removed_sasvi\u001b[0m\u001b[1;33m,\u001b[0m\u001b[0mnb_removed_strong\u001b[0m\u001b[1;33m,\u001b[0m\u001b[0mnb_removed_safe\u001b[0m\u001b[1;33m=\u001b[0m\u001b[0mtest_method\u001b[0m\u001b[1;33m(\u001b[0m\u001b[0mX\u001b[0m\u001b[1;33m,\u001b[0m\u001b[0my\u001b[0m\u001b[1;33m,\u001b[0m \u001b[0mλ\u001b[0m\u001b[1;33m,\u001b[0m \u001b[0mλ_max\u001b[0m\u001b[1;33m,\u001b[0m\u001b[1;32mTrue\u001b[0m\u001b[1;33m)\u001b[0m\u001b[1;33m\u001b[0m\u001b[1;33m\u001b[0m\u001b[0m\n\u001b[0m\u001b[0;32m      2\u001b[0m \u001b[0mplot_res\u001b[0m\u001b[1;33m(\u001b[0m\u001b[0mTsasvi\u001b[0m\u001b[1;33m,\u001b[0m\u001b[0mTnormal\u001b[0m\u001b[1;33m,\u001b[0m\u001b[0mTstrong\u001b[0m\u001b[1;33m,\u001b[0m\u001b[0mTsafe\u001b[0m\u001b[1;33m,\u001b[0m\u001b[0mnb_removed_sasvi\u001b[0m\u001b[1;33m,\u001b[0m\u001b[0mnb_removed_strong\u001b[0m\u001b[1;33m,\u001b[0m\u001b[0mnb_removed_safe\u001b[0m\u001b[1;33m,\u001b[0m\u001b[0mλ\u001b[0m\u001b[1;33m,\u001b[0m \u001b[0mλ_max\u001b[0m\u001b[1;33m,\u001b[0m\u001b[0mp\u001b[0m\u001b[1;33m)\u001b[0m\u001b[1;33m\u001b[0m\u001b[1;33m\u001b[0m\u001b[0m\n",
      "\u001b[1;32m<ipython-input-6-03ebf1de57ed>\u001b[0m in \u001b[0;36mtest_method\u001b[1;34m(X, y, λ, λ_max, verbose)\u001b[0m\n\u001b[0;32m     24\u001b[0m         \u001b[0mb\u001b[0m\u001b[1;33m=\u001b[0m\u001b[0mget_b\u001b[0m\u001b[1;33m(\u001b[0m\u001b[0mλ\u001b[0m\u001b[1;33m[\u001b[0m\u001b[0mi\u001b[0m\u001b[1;33m+\u001b[0m\u001b[1;36m1\u001b[0m\u001b[1;33m]\u001b[0m\u001b[1;33m,\u001b[0m \u001b[0mθ1star\u001b[0m\u001b[1;33m)\u001b[0m\u001b[1;33m\u001b[0m\u001b[1;33m\u001b[0m\u001b[0m\n\u001b[0;32m     25\u001b[0m         \u001b[0myort\u001b[0m\u001b[1;33m=\u001b[0m\u001b[0my_ort\u001b[0m\u001b[1;33m(\u001b[0m\u001b[0my\u001b[0m\u001b[1;33m,\u001b[0m\u001b[0ma\u001b[0m\u001b[1;33m,\u001b[0m\u001b[0mb\u001b[0m\u001b[1;33m)\u001b[0m\u001b[1;33m\u001b[0m\u001b[1;33m\u001b[0m\u001b[0m\n\u001b[1;32m---> 26\u001b[1;33m         \u001b[0mXort\u001b[0m\u001b[1;33m=\u001b[0m\u001b[0mx_ort\u001b[0m\u001b[1;33m(\u001b[0m\u001b[0mX\u001b[0m\u001b[1;33m,\u001b[0m\u001b[0ma\u001b[0m\u001b[1;33m,\u001b[0m\u001b[0mb\u001b[0m\u001b[1;33m)\u001b[0m\u001b[1;33m\u001b[0m\u001b[1;33m\u001b[0m\u001b[0m\n\u001b[0m\u001b[0;32m     27\u001b[0m \u001b[1;33m\u001b[0m\u001b[0m\n\u001b[0;32m     28\u001b[0m         \u001b[1;31m#SASVI SCREENING AND FITTING\u001b[0m\u001b[1;33m\u001b[0m\u001b[1;33m\u001b[0m\u001b[1;33m\u001b[0m\u001b[0m\n",
      "\u001b[1;32m<ipython-input-2-983b6c08b446>\u001b[0m in \u001b[0;36mx_ort\u001b[1;34m(x, a, b)\u001b[0m\n\u001b[0;32m      6\u001b[0m \u001b[1;33m\u001b[0m\u001b[0m\n\u001b[0;32m      7\u001b[0m \u001b[1;32mdef\u001b[0m \u001b[0mx_ort\u001b[0m\u001b[1;33m(\u001b[0m\u001b[0mx\u001b[0m\u001b[1;33m,\u001b[0m\u001b[0ma\u001b[0m\u001b[1;33m,\u001b[0m\u001b[0mb\u001b[0m\u001b[1;33m)\u001b[0m\u001b[1;33m:\u001b[0m\u001b[1;33m\u001b[0m\u001b[1;33m\u001b[0m\u001b[0m\n\u001b[1;32m----> 8\u001b[1;33m     \u001b[1;32mreturn\u001b[0m\u001b[1;33m(\u001b[0m\u001b[0mx\u001b[0m\u001b[1;33m-\u001b[0m\u001b[0mnp\u001b[0m\u001b[1;33m.\u001b[0m\u001b[0mouter\u001b[0m\u001b[1;33m(\u001b[0m\u001b[0ma\u001b[0m\u001b[1;33m,\u001b[0m\u001b[0mnp\u001b[0m\u001b[1;33m.\u001b[0m\u001b[0mdot\u001b[0m\u001b[1;33m(\u001b[0m\u001b[0mx\u001b[0m\u001b[1;33m.\u001b[0m\u001b[0mT\u001b[0m\u001b[1;33m,\u001b[0m\u001b[0ma\u001b[0m\u001b[1;33m)\u001b[0m\u001b[1;33m)\u001b[0m\u001b[1;33m/\u001b[0m\u001b[1;33m(\u001b[0m\u001b[0mnp\u001b[0m\u001b[1;33m.\u001b[0m\u001b[0mlinalg\u001b[0m\u001b[1;33m.\u001b[0m\u001b[0mnorm\u001b[0m\u001b[1;33m(\u001b[0m\u001b[0ma\u001b[0m\u001b[1;33m)\u001b[0m\u001b[1;33m**\u001b[0m\u001b[1;36m2\u001b[0m\u001b[1;33m)\u001b[0m\u001b[1;33m)\u001b[0m\u001b[1;33m\u001b[0m\u001b[1;33m\u001b[0m\u001b[0m\n\u001b[0m\u001b[0;32m      9\u001b[0m \u001b[1;33m\u001b[0m\u001b[0m\n\u001b[0;32m     10\u001b[0m \u001b[1;32mdef\u001b[0m \u001b[0my_ort\u001b[0m\u001b[1;33m(\u001b[0m\u001b[0my\u001b[0m\u001b[1;33m,\u001b[0m\u001b[0ma\u001b[0m\u001b[1;33m,\u001b[0m\u001b[0mb\u001b[0m\u001b[1;33m)\u001b[0m\u001b[1;33m:\u001b[0m\u001b[1;33m\u001b[0m\u001b[1;33m\u001b[0m\u001b[0m\n",
      "\u001b[1;32m<__array_function__ internals>\u001b[0m in \u001b[0;36mouter\u001b[1;34m(*args, **kwargs)\u001b[0m\n",
      "\u001b[1;32m~\\AppData\\Local\\Programs\\Python\\Python38\\lib\\site-packages\\numpy\\core\\numeric.py\u001b[0m in \u001b[0;36mouter\u001b[1;34m(a, b, out)\u001b[0m\n\u001b[0;32m    907\u001b[0m     \u001b[0ma\u001b[0m \u001b[1;33m=\u001b[0m \u001b[0masarray\u001b[0m\u001b[1;33m(\u001b[0m\u001b[0ma\u001b[0m\u001b[1;33m)\u001b[0m\u001b[1;33m\u001b[0m\u001b[1;33m\u001b[0m\u001b[0m\n\u001b[0;32m    908\u001b[0m     \u001b[0mb\u001b[0m \u001b[1;33m=\u001b[0m \u001b[0masarray\u001b[0m\u001b[1;33m(\u001b[0m\u001b[0mb\u001b[0m\u001b[1;33m)\u001b[0m\u001b[1;33m\u001b[0m\u001b[1;33m\u001b[0m\u001b[0m\n\u001b[1;32m--> 909\u001b[1;33m     \u001b[1;32mreturn\u001b[0m \u001b[0mmultiply\u001b[0m\u001b[1;33m(\u001b[0m\u001b[0ma\u001b[0m\u001b[1;33m.\u001b[0m\u001b[0mravel\u001b[0m\u001b[1;33m(\u001b[0m\u001b[1;33m)\u001b[0m\u001b[1;33m[\u001b[0m\u001b[1;33m:\u001b[0m\u001b[1;33m,\u001b[0m \u001b[0mnewaxis\u001b[0m\u001b[1;33m]\u001b[0m\u001b[1;33m,\u001b[0m \u001b[0mb\u001b[0m\u001b[1;33m.\u001b[0m\u001b[0mravel\u001b[0m\u001b[1;33m(\u001b[0m\u001b[1;33m)\u001b[0m\u001b[1;33m[\u001b[0m\u001b[0mnewaxis\u001b[0m\u001b[1;33m,\u001b[0m \u001b[1;33m:\u001b[0m\u001b[1;33m]\u001b[0m\u001b[1;33m,\u001b[0m \u001b[0mout\u001b[0m\u001b[1;33m)\u001b[0m\u001b[1;33m\u001b[0m\u001b[1;33m\u001b[0m\u001b[0m\n\u001b[0m\u001b[0;32m    910\u001b[0m \u001b[1;33m\u001b[0m\u001b[0m\n\u001b[0;32m    911\u001b[0m \u001b[1;33m\u001b[0m\u001b[0m\n",
      "\u001b[1;31mKeyboardInterrupt\u001b[0m: "
     ]
    }
   ],
   "source": [
    "Tsasvi,Tnormal,Tstrong,Tsafe,nb_removed_sasvi,nb_removed_strong,nb_removed_safe=test_method(X,y, λ, λ_max,True)\n",
    "plot_res(Tsasvi,Tnormal,Tstrong,Tsafe,nb_removed_sasvi,nb_removed_strong,nb_removed_safe,λ, λ_max,p)"
   ]
  },
  {
   "cell_type": "markdown",
   "metadata": {},
   "source": [
    "# PIE Face Image Data Set"
   ]
  },
  {
   "cell_type": "code",
   "execution_count": 8,
   "metadata": {},
   "outputs": [],
   "source": [
    "def gen_data_PIE():\n",
    "    list_files = [\"data/PIE/PIE05.mat\",\"data/PIE/PIE07.mat\",\"data/PIE/PIE09.mat\",\"data/PIE/PIE27.mat\",\"data/PIE/PIE29.mat\"]\n",
    "    X = np.zeros((1024,11554))\n",
    "    rows = 0\n",
    "    for files in list_files:\n",
    "        content = sio.loadmat(files)\n",
    "        x = content['fea']\n",
    "        X[:,rows:(rows+x.shape[0])] = x.T\n",
    "        rows += x.shape[0]\n",
    "    indy = random.sample(range(11554),1)\n",
    "    y = X[:,indy].reshape(-1)\n",
    "    X = np.delete(X, indy, 1)\n",
    "\n",
    "    return (X,y)"
   ]
  },
  {
   "cell_type": "code",
   "execution_count": 18,
   "metadata": {},
   "outputs": [],
   "source": [
    "[X,y]=gen_data_PIE()\n",
    "p=len(X[1,:])\n",
    "λ_max=np.max(np.abs(np.dot(y,X)))\n",
    "λ=np.linspace(1,0.05,20)*λ_max"
   ]
  },
  {
   "cell_type": "code",
   "execution_count": 10,
   "metadata": {},
   "outputs": [
    {
     "data": {
      "text/plain": [
       "<matplotlib.image.AxesImage at 0x21e27bf8880>"
      ]
     },
     "execution_count": 10,
     "metadata": {},
     "output_type": "execute_result"
    },
    {
     "data": {
      "image/png": "[encoded data removed]",
      "text/plain": [
       "<Figure size 432x288 with 1 Axes>"
      ]
     },
     "metadata": {
      "needs_background": "light"
     },
     "output_type": "display_data"
    }
   ],
   "source": [
    "plt.imshow(y.reshape(32,32))"
   ]
  },
  {
   "cell_type": "code",
   "execution_count": 26,
   "metadata": {},
   "outputs": [
    {
     "name": "stdout",
     "output_type": "stream",
     "text": [
      "#### Step n°1/19 ####\n",
      "Number of variables removed with sasvi : 11553\n",
      "Number of variables removed with strong rule : 11553\n",
      "0.04140028099769021\n"
     ]
    },
    {
     "ename": "AxisError",
     "evalue": "axis 1 is out of bounds for array of dimension 0",
     "output_type": "error",
     "traceback": [
      "\u001b[1;31m---------------------------------------------------------------------------\u001b[0m",
      "\u001b[1;31mAxisError\u001b[0m                                 Traceback (most recent call last)",
      "\u001b[1;32m<ipython-input-26-9218259d6364>\u001b[0m in \u001b[0;36m<module>\u001b[1;34m\u001b[0m\n\u001b[1;32m----> 1\u001b[1;33m \u001b[0mTsasvi\u001b[0m\u001b[1;33m,\u001b[0m\u001b[0mTnormal\u001b[0m\u001b[1;33m,\u001b[0m\u001b[0mTstrong\u001b[0m\u001b[1;33m,\u001b[0m\u001b[0mTsafe\u001b[0m\u001b[1;33m,\u001b[0m\u001b[0mnb_removed_sasvi\u001b[0m\u001b[1;33m,\u001b[0m\u001b[0mnb_removed_strong\u001b[0m\u001b[1;33m,\u001b[0m\u001b[0mnb_removed_safe\u001b[0m\u001b[1;33m=\u001b[0m\u001b[0mtest_method\u001b[0m\u001b[1;33m(\u001b[0m\u001b[0mX\u001b[0m\u001b[1;33m,\u001b[0m\u001b[0my\u001b[0m\u001b[1;33m,\u001b[0m \u001b[0mλ\u001b[0m\u001b[1;33m,\u001b[0m \u001b[0mλ_max\u001b[0m\u001b[1;33m,\u001b[0m\u001b[1;32mTrue\u001b[0m\u001b[1;33m)\u001b[0m\u001b[1;33m\u001b[0m\u001b[1;33m\u001b[0m\u001b[0m\n\u001b[0m\u001b[0;32m      2\u001b[0m \u001b[0mplot_res\u001b[0m\u001b[1;33m(\u001b[0m\u001b[0mTsasvi\u001b[0m\u001b[1;33m,\u001b[0m\u001b[0mTnormal\u001b[0m\u001b[1;33m,\u001b[0m\u001b[0mTstrong\u001b[0m\u001b[1;33m,\u001b[0m\u001b[0mTsafe\u001b[0m\u001b[1;33m,\u001b[0m\u001b[0mnb_removed_sasvi\u001b[0m\u001b[1;33m,\u001b[0m\u001b[0mnb_removed_strong\u001b[0m\u001b[1;33m,\u001b[0m\u001b[0mnb_removed_safe\u001b[0m\u001b[1;33m,\u001b[0m\u001b[0mλ\u001b[0m\u001b[1;33m,\u001b[0m \u001b[0mλ_max\u001b[0m\u001b[1;33m,\u001b[0m\u001b[0mp\u001b[0m\u001b[1;33m)\u001b[0m\u001b[1;33m\u001b[0m\u001b[1;33m\u001b[0m\u001b[0m\n",
      "\u001b[1;32m<ipython-input-23-03ebf1de57ed>\u001b[0m in \u001b[0;36mtest_method\u001b[1;34m(X, y, λ, λ_max, verbose)\u001b[0m\n\u001b[0;32m     56\u001b[0m \u001b[1;33m\u001b[0m\u001b[0m\n\u001b[0;32m     57\u001b[0m         \u001b[1;31m#SAFE RULE SCREENING AND FITTING\u001b[0m\u001b[1;33m\u001b[0m\u001b[1;33m\u001b[0m\u001b[1;33m\u001b[0m\u001b[0m\n\u001b[1;32m---> 58\u001b[1;33m         \u001b[0mto_drop_safe1\u001b[0m\u001b[1;33m=\u001b[0m\u001b[0msafe_screening\u001b[0m\u001b[1;33m(\u001b[0m\u001b[0mX\u001b[0m\u001b[1;33m,\u001b[0m\u001b[0my\u001b[0m\u001b[1;33m,\u001b[0m\u001b[0mθ1star\u001b[0m\u001b[1;33m,\u001b[0m \u001b[0mλ\u001b[0m\u001b[1;33m[\u001b[0m\u001b[0mi\u001b[0m\u001b[1;33m+\u001b[0m\u001b[1;36m1\u001b[0m\u001b[1;33m]\u001b[0m\u001b[1;33m,\u001b[0m \u001b[0mλ\u001b[0m\u001b[1;33m[\u001b[0m\u001b[0mi\u001b[0m\u001b[1;33m]\u001b[0m\u001b[1;33m)\u001b[0m\u001b[1;33m\u001b[0m\u001b[1;33m\u001b[0m\u001b[0m\n\u001b[0m\u001b[0;32m     59\u001b[0m         \u001b[1;31m# to_drop_safe1=safe_screening2(X,y,θ1star, λ[i+1], λ[i],λ[0])\u001b[0m\u001b[1;33m\u001b[0m\u001b[1;33m\u001b[0m\u001b[1;33m\u001b[0m\u001b[0m\n\u001b[0;32m     60\u001b[0m         \u001b[0mX_safe\u001b[0m \u001b[1;33m=\u001b[0m \u001b[0mnp\u001b[0m\u001b[1;33m.\u001b[0m\u001b[0mdelete\u001b[0m\u001b[1;33m(\u001b[0m\u001b[0mX\u001b[0m\u001b[1;33m,\u001b[0m \u001b[0mto_drop_safe1\u001b[0m\u001b[1;33m,\u001b[0m \u001b[1;36m1\u001b[0m\u001b[1;33m)\u001b[0m\u001b[1;33m\u001b[0m\u001b[1;33m\u001b[0m\u001b[0m\n",
      "\u001b[1;32m<ipython-input-25-183befcdeb1d>\u001b[0m in \u001b[0;36msafe_screening\u001b[1;34m(X, y, theta_before, lamb, lamb_before)\u001b[0m\n\u001b[0;32m     33\u001b[0m     \u001b[0mtol\u001b[0m \u001b[1;33m=\u001b[0m \u001b[1;36m10\u001b[0m\u001b[1;33m^\u001b[0m\u001b[1;33m(\u001b[0m\u001b[1;33m-\u001b[0m\u001b[1;36m9\u001b[0m\u001b[1;33m)\u001b[0m\u001b[1;33m\u001b[0m\u001b[1;33m\u001b[0m\u001b[0m\n\u001b[0;32m     34\u001b[0m     \u001b[0mprint\u001b[0m\u001b[1;33m(\u001b[0m\u001b[0mnp\u001b[0m\u001b[1;33m.\u001b[0m\u001b[0mdot\u001b[0m\u001b[1;33m(\u001b[0m\u001b[0mtheta_before\u001b[0m\u001b[1;33m.\u001b[0m\u001b[0mT\u001b[0m\u001b[1;33m,\u001b[0m\u001b[0my\u001b[0m\u001b[1;33m)\u001b[0m\u001b[1;33m/\u001b[0m\u001b[1;33m(\u001b[0m\u001b[0mlamb\u001b[0m\u001b[1;33m*\u001b[0m\u001b[0mnp\u001b[0m\u001b[1;33m.\u001b[0m\u001b[0mlinalg\u001b[0m\u001b[1;33m.\u001b[0m\u001b[0mnorm\u001b[0m\u001b[1;33m(\u001b[0m\u001b[0mtheta_before\u001b[0m\u001b[1;33m)\u001b[0m\u001b[1;33m)\u001b[0m\u001b[1;33m)\u001b[0m\u001b[1;33m\u001b[0m\u001b[1;33m\u001b[0m\u001b[0m\n\u001b[1;32m---> 35\u001b[1;33m     \u001b[0ms_star\u001b[0m \u001b[1;33m=\u001b[0m \u001b[0mnp\u001b[0m\u001b[1;33m.\u001b[0m\u001b[0mmax\u001b[0m\u001b[1;33m(\u001b[0m\u001b[0mnp\u001b[0m\u001b[1;33m.\u001b[0m\u001b[0mmin\u001b[0m\u001b[1;33m(\u001b[0m\u001b[0mnp\u001b[0m\u001b[1;33m.\u001b[0m\u001b[0mdot\u001b[0m\u001b[1;33m(\u001b[0m\u001b[0mtheta_before\u001b[0m\u001b[1;33m.\u001b[0m\u001b[0mT\u001b[0m\u001b[1;33m,\u001b[0m\u001b[0my\u001b[0m\u001b[1;33m)\u001b[0m\u001b[1;33m/\u001b[0m\u001b[1;33m(\u001b[0m\u001b[0mlamb\u001b[0m\u001b[1;33m*\u001b[0m\u001b[0mnp\u001b[0m\u001b[1;33m.\u001b[0m\u001b[0mlinalg\u001b[0m\u001b[1;33m.\u001b[0m\u001b[0mnorm\u001b[0m\u001b[1;33m(\u001b[0m\u001b[0mtheta_before\u001b[0m\u001b[1;33m)\u001b[0m\u001b[1;33m)\u001b[0m\u001b[1;33m,\u001b[0m\u001b[1;36m1\u001b[0m\u001b[1;33m)\u001b[0m\u001b[1;33m,\u001b[0m\u001b[1;33m-\u001b[0m\u001b[1;36m1\u001b[0m\u001b[1;33m)\u001b[0m\u001b[1;33m\u001b[0m\u001b[1;33m\u001b[0m\u001b[0m\n\u001b[0m\u001b[0;32m     36\u001b[0m     \u001b[1;32mreturn\u001b[0m \u001b[0mnp\u001b[0m\u001b[1;33m.\u001b[0m\u001b[0mwhere\u001b[0m\u001b[1;33m(\u001b[0m\u001b[1;33m(\u001b[0m\u001b[0mnp\u001b[0m\u001b[1;33m.\u001b[0m\u001b[0mabs\u001b[0m\u001b[1;33m(\u001b[0m\u001b[0mnp\u001b[0m\u001b[1;33m.\u001b[0m\u001b[0mdot\u001b[0m\u001b[1;33m(\u001b[0m\u001b[0mX\u001b[0m\u001b[1;33m.\u001b[0m\u001b[0mT\u001b[0m\u001b[1;33m,\u001b[0m\u001b[0my\u001b[0m\u001b[1;33m)\u001b[0m\u001b[1;33m)\u001b[0m\u001b[1;33m/\u001b[0m\u001b[0mlamb\u001b[0m \u001b[1;33m+\u001b[0m \u001b[0mnp\u001b[0m\u001b[1;33m.\u001b[0m\u001b[0mlinalg\u001b[0m\u001b[1;33m.\u001b[0m\u001b[0mnorm\u001b[0m\u001b[1;33m(\u001b[0m\u001b[0mX\u001b[0m\u001b[1;33m,\u001b[0m\u001b[0maxis\u001b[0m\u001b[1;33m=\u001b[0m\u001b[1;36m0\u001b[0m\u001b[1;33m)\u001b[0m\u001b[1;33m*\u001b[0m\u001b[0mnp\u001b[0m\u001b[1;33m.\u001b[0m\u001b[0mlinalg\u001b[0m\u001b[1;33m.\u001b[0m\u001b[0mnorm\u001b[0m\u001b[1;33m(\u001b[0m\u001b[0ms_star\u001b[0m\u001b[1;33m*\u001b[0m\u001b[0mtheta_before\u001b[0m\u001b[1;33m-\u001b[0m\u001b[0my\u001b[0m\u001b[1;33m/\u001b[0m\u001b[0mlamb\u001b[0m\u001b[1;33m)\u001b[0m\u001b[1;33m)\u001b[0m\u001b[1;33m<\u001b[0m\u001b[1;36m1\u001b[0m\u001b[1;33m-\u001b[0m\u001b[0mtol\u001b[0m\u001b[1;33m)\u001b[0m\u001b[1;33m\u001b[0m\u001b[1;33m\u001b[0m\u001b[0m\n\u001b[0;32m     37\u001b[0m \u001b[1;33m\u001b[0m\u001b[0m\n",
      "\u001b[1;32m<__array_function__ internals>\u001b[0m in \u001b[0;36mamin\u001b[1;34m(*args, **kwargs)\u001b[0m\n",
      "\u001b[1;32m~\\AppData\\Local\\Programs\\Python\\Python38\\lib\\site-packages\\numpy\\core\\fromnumeric.py\u001b[0m in \u001b[0;36mamin\u001b[1;34m(a, axis, out, keepdims, initial, where)\u001b[0m\n\u001b[0;32m   2828\u001b[0m     \u001b[1;36m6\u001b[0m\u001b[1;33m\u001b[0m\u001b[1;33m\u001b[0m\u001b[0m\n\u001b[0;32m   2829\u001b[0m     \"\"\"\n\u001b[1;32m-> 2830\u001b[1;33m     return _wrapreduction(a, np.minimum, 'min', axis, None, out,\n\u001b[0m\u001b[0;32m   2831\u001b[0m                           keepdims=keepdims, initial=initial, where=where)\n\u001b[0;32m   2832\u001b[0m \u001b[1;33m\u001b[0m\u001b[0m\n",
      "\u001b[1;32m~\\AppData\\Local\\Programs\\Python\\Python38\\lib\\site-packages\\numpy\\core\\fromnumeric.py\u001b[0m in \u001b[0;36m_wrapreduction\u001b[1;34m(obj, ufunc, method, axis, dtype, out, **kwargs)\u001b[0m\n\u001b[0;32m     83\u001b[0m                 \u001b[1;32mreturn\u001b[0m \u001b[0mreduction\u001b[0m\u001b[1;33m(\u001b[0m\u001b[0maxis\u001b[0m\u001b[1;33m=\u001b[0m\u001b[0maxis\u001b[0m\u001b[1;33m,\u001b[0m \u001b[0mdtype\u001b[0m\u001b[1;33m=\u001b[0m\u001b[0mdtype\u001b[0m\u001b[1;33m,\u001b[0m \u001b[0mout\u001b[0m\u001b[1;33m=\u001b[0m\u001b[0mout\u001b[0m\u001b[1;33m,\u001b[0m \u001b[1;33m**\u001b[0m\u001b[0mpasskwargs\u001b[0m\u001b[1;33m)\u001b[0m\u001b[1;33m\u001b[0m\u001b[1;33m\u001b[0m\u001b[0m\n\u001b[0;32m     84\u001b[0m             \u001b[1;32melse\u001b[0m\u001b[1;33m:\u001b[0m\u001b[1;33m\u001b[0m\u001b[1;33m\u001b[0m\u001b[0m\n\u001b[1;32m---> 85\u001b[1;33m                 \u001b[1;32mreturn\u001b[0m \u001b[0mreduction\u001b[0m\u001b[1;33m(\u001b[0m\u001b[0maxis\u001b[0m\u001b[1;33m=\u001b[0m\u001b[0maxis\u001b[0m\u001b[1;33m,\u001b[0m \u001b[0mout\u001b[0m\u001b[1;33m=\u001b[0m\u001b[0mout\u001b[0m\u001b[1;33m,\u001b[0m \u001b[1;33m**\u001b[0m\u001b[0mpasskwargs\u001b[0m\u001b[1;33m)\u001b[0m\u001b[1;33m\u001b[0m\u001b[1;33m\u001b[0m\u001b[0m\n\u001b[0m\u001b[0;32m     86\u001b[0m \u001b[1;33m\u001b[0m\u001b[0m\n\u001b[0;32m     87\u001b[0m     \u001b[1;32mreturn\u001b[0m \u001b[0mufunc\u001b[0m\u001b[1;33m.\u001b[0m\u001b[0mreduce\u001b[0m\u001b[1;33m(\u001b[0m\u001b[0mobj\u001b[0m\u001b[1;33m,\u001b[0m \u001b[0maxis\u001b[0m\u001b[1;33m,\u001b[0m \u001b[0mdtype\u001b[0m\u001b[1;33m,\u001b[0m \u001b[0mout\u001b[0m\u001b[1;33m,\u001b[0m \u001b[1;33m**\u001b[0m\u001b[0mpasskwargs\u001b[0m\u001b[1;33m)\u001b[0m\u001b[1;33m\u001b[0m\u001b[1;33m\u001b[0m\u001b[0m\n",
      "\u001b[1;32m~\\AppData\\Local\\Programs\\Python\\Python38\\lib\\site-packages\\numpy\\core\\_methods.py\u001b[0m in \u001b[0;36m_amin\u001b[1;34m(a, axis, out, keepdims, initial, where)\u001b[0m\n\u001b[0;32m     41\u001b[0m def _amin(a, axis=None, out=None, keepdims=False,\n\u001b[0;32m     42\u001b[0m           initial=_NoValue, where=True):\n\u001b[1;32m---> 43\u001b[1;33m     \u001b[1;32mreturn\u001b[0m \u001b[0mumr_minimum\u001b[0m\u001b[1;33m(\u001b[0m\u001b[0ma\u001b[0m\u001b[1;33m,\u001b[0m \u001b[0maxis\u001b[0m\u001b[1;33m,\u001b[0m \u001b[1;32mNone\u001b[0m\u001b[1;33m,\u001b[0m \u001b[0mout\u001b[0m\u001b[1;33m,\u001b[0m \u001b[0mkeepdims\u001b[0m\u001b[1;33m,\u001b[0m \u001b[0minitial\u001b[0m\u001b[1;33m,\u001b[0m \u001b[0mwhere\u001b[0m\u001b[1;33m)\u001b[0m\u001b[1;33m\u001b[0m\u001b[1;33m\u001b[0m\u001b[0m\n\u001b[0m\u001b[0;32m     44\u001b[0m \u001b[1;33m\u001b[0m\u001b[0m\n\u001b[0;32m     45\u001b[0m def _sum(a, axis=None, dtype=None, out=None, keepdims=False,\n",
      "\u001b[1;31mAxisError\u001b[0m: axis 1 is out of bounds for array of dimension 0"
     ]
    }
   ],
   "source": [
    "Tsasvi,Tnormal,Tstrong,Tsafe,nb_removed_sasvi,nb_removed_strong,nb_removed_safe=test_method(X,y, λ, λ_max,True)\n",
    "plot_res(Tsasvi,Tnormal,Tstrong,Tsafe,nb_removed_sasvi,nb_removed_strong,nb_removed_safe,λ, λ_max,p)"
   ]
  },
  {
   "cell_type": "code",
   "execution_count": 10,
   "metadata": {},
   "outputs": [
    {
     "name": "stdout",
     "output_type": "stream",
     "text": [
      "#### Step n°1/39 ####\n",
      "True\n",
      "Number of variables removed with sasvi : 11553\n",
      "Number of variables removed with strong rule : 11553\n",
      "Number of variables removed with safe rule : 11553\n",
      "#### Step n°2/39 ####\n",
      "True\n",
      "Number of variables removed with sasvi : 11553\n",
      "Number of variables removed with strong rule : 11553\n",
      "Number of variables removed with safe rule : 11553\n",
      "#### Step n°3/39 ####\n",
      "True\n",
      "Number of variables removed with sasvi : 11553\n",
      "Number of variables removed with strong rule : 11553\n",
      "Number of variables removed with safe rule : 11553\n",
      "#### Step n°4/39 ####\n",
      "True\n",
      "Number of variables removed with sasvi : 11553\n",
      "Number of variables removed with strong rule : 11553\n",
      "Number of variables removed with safe rule : 11553\n",
      "#### Step n°5/39 ####\n",
      "True\n",
      "Number of variables removed with sasvi : 11553\n",
      "Number of variables removed with strong rule : 11553\n",
      "Number of variables removed with safe rule : 11553\n",
      "#### Step n°6/39 ####\n",
      "True\n",
      "Number of variables removed with sasvi : 11553\n",
      "Number of variables removed with strong rule : 11553\n",
      "Number of variables removed with safe rule : 11553\n",
      "#### Step n°7/39 ####\n",
      "True\n",
      "Number of variables removed with sasvi : 11553\n",
      "Number of variables removed with strong rule : 11553\n",
      "Number of variables removed with safe rule : 11553\n",
      "#### Step n°8/39 ####\n",
      "True\n",
      "Number of variables removed with sasvi : 11553\n",
      "Number of variables removed with strong rule : 11553\n",
      "Number of variables removed with safe rule : 11553\n",
      "#### Step n°9/39 ####\n",
      "True\n",
      "Number of variables removed with sasvi : 11553\n",
      "Number of variables removed with strong rule : 11553\n",
      "Number of variables removed with safe rule : 11553\n",
      "#### Step n°10/39 ####\n",
      "True\n",
      "Number of variables removed with sasvi : 11553\n",
      "Number of variables removed with strong rule : 11553\n",
      "Number of variables removed with safe rule : 11553\n",
      "#### Step n°11/39 ####\n",
      "True\n",
      "Number of variables removed with sasvi : 11553\n",
      "Number of variables removed with strong rule : 11553\n",
      "Number of variables removed with safe rule : 11553\n",
      "#### Step n°12/39 ####\n",
      "True\n",
      "Number of variables removed with sasvi : 11553\n",
      "Number of variables removed with strong rule : 11553\n",
      "Number of variables removed with safe rule : 11553\n",
      "#### Step n°13/39 ####\n",
      "True\n",
      "Number of variables removed with sasvi : 11553\n",
      "Number of variables removed with strong rule : 11553\n",
      "Number of variables removed with safe rule : 11553\n",
      "#### Step n°14/39 ####\n",
      "True\n",
      "Number of variables removed with sasvi : 11553\n",
      "Number of variables removed with strong rule : 11553\n",
      "Number of variables removed with safe rule : 11553\n",
      "#### Step n°15/39 ####\n",
      "True\n",
      "Number of variables removed with sasvi : 11553\n",
      "Number of variables removed with strong rule : 11553\n",
      "Number of variables removed with safe rule : 11553\n",
      "#### Step n°16/39 ####\n",
      "True\n",
      "Number of variables removed with sasvi : 11553\n",
      "Number of variables removed with strong rule : 11553\n",
      "Number of variables removed with safe rule : 11553\n",
      "#### Step n°17/39 ####\n",
      "True\n",
      "Number of variables removed with sasvi : 11553\n",
      "Number of variables removed with strong rule : 11553\n",
      "Number of variables removed with safe rule : 11553\n",
      "#### Step n°18/39 ####\n",
      "True\n",
      "Number of variables removed with sasvi : 11553\n",
      "Number of variables removed with strong rule : 11553\n",
      "Number of variables removed with safe rule : 11553\n",
      "#### Step n°19/39 ####\n",
      "True\n",
      "Number of variables removed with sasvi : 11553\n",
      "Number of variables removed with strong rule : 11553\n",
      "Number of variables removed with safe rule : 11553\n",
      "#### Step n°20/39 ####\n",
      "True\n",
      "Number of variables removed with sasvi : 11553\n",
      "Number of variables removed with strong rule : 11553\n",
      "Number of variables removed with safe rule : 11553\n",
      "#### Step n°21/39 ####\n",
      "True\n",
      "Number of variables removed with sasvi : 11553\n",
      "Number of variables removed with strong rule : 11553\n",
      "Number of variables removed with safe rule : 11552\n",
      "#### Step n°22/39 ####\n",
      "True\n",
      "Number of variables removed with sasvi : 11553\n",
      "Number of variables removed with strong rule : 11553\n",
      "Number of variables removed with safe rule : 11542\n",
      "#### Step n°23/39 ####\n",
      "True\n",
      "Number of variables removed with sasvi : 11553\n",
      "Number of variables removed with strong rule : 11553\n",
      "Number of variables removed with safe rule : 11505\n",
      "#### Step n°24/39 ####\n",
      "True\n",
      "Number of variables removed with sasvi : 11553\n",
      "Number of variables removed with strong rule : 11553\n",
      "Number of variables removed with safe rule : 11436\n",
      "#### Step n°25/39 ####\n",
      "True\n",
      "Number of variables removed with sasvi : 11553\n",
      "Number of variables removed with strong rule : 11553\n",
      "Number of variables removed with safe rule : 11313\n",
      "#### Step n°26/39 ####\n",
      "True\n",
      "Number of variables removed with sasvi : 11553\n",
      "Number of variables removed with strong rule : 11553\n",
      "Number of variables removed with safe rule : 11130\n",
      "#### Step n°27/39 ####\n",
      "True\n",
      "Number of variables removed with sasvi : 11553\n",
      "Number of variables removed with strong rule : 11553\n",
      "Number of variables removed with safe rule : 10858\n",
      "#### Step n°28/39 ####\n",
      "True\n",
      "Number of variables removed with sasvi : 11553\n",
      "Number of variables removed with strong rule : 11553\n",
      "Number of variables removed with safe rule : 10459\n",
      "#### Step n°29/39 ####\n",
      "True\n",
      "Number of variables removed with sasvi : 11553\n",
      "Number of variables removed with strong rule : 11553\n",
      "Number of variables removed with safe rule : 9925\n",
      "#### Step n°30/39 ####\n",
      "True\n",
      "Number of variables removed with sasvi : 11553\n",
      "Number of variables removed with strong rule : 11553\n",
      "Number of variables removed with safe rule : 9118\n",
      "#### Step n°31/39 ####\n",
      "True\n",
      "Number of variables removed with sasvi : 11551\n",
      "Number of variables removed with strong rule : 11545\n",
      "Number of variables removed with safe rule : 8281\n",
      "#### Step n°32/39 ####\n",
      "True\n",
      "Number of variables removed with sasvi : 11502\n",
      "Number of variables removed with strong rule : 11477\n",
      "Number of variables removed with safe rule : 7328\n",
      "#### Step n°33/39 ####\n",
      "True\n",
      "Number of variables removed with sasvi : 11297\n",
      "Number of variables removed with strong rule : 11224\n",
      "Number of variables removed with safe rule : 6378\n",
      "#### Step n°34/39 ####\n",
      "True\n",
      "Number of variables removed with sasvi : 10803\n",
      "Number of variables removed with strong rule : 10634\n",
      "Number of variables removed with safe rule : 5264\n",
      "#### Step n°35/39 ####\n",
      "True\n",
      "Number of variables removed with sasvi : 9801\n",
      "Number of variables removed with strong rule : 9501\n",
      "Number of variables removed with safe rule : 4074\n",
      "#### Step n°36/39 ####\n",
      "True\n",
      "Number of variables removed with sasvi : 8094\n",
      "Number of variables removed with strong rule : 7721\n",
      "Number of variables removed with safe rule : 2697\n",
      "#### Step n°37/39 ####\n",
      "True\n",
      "Number of variables removed with sasvi : 6163\n",
      "Number of variables removed with strong rule : 5820\n",
      "Number of variables removed with safe rule : 1305\n",
      "#### Step n°38/39 ####\n",
      "False\n",
      "Number of variables removed with sasvi : 3661\n",
      "Number of variables removed with strong rule : 4261\n",
      "Number of variables removed with safe rule : 403\n",
      "#### Step n°39/39 ####\n",
      "False\n",
      "Number of variables removed with sasvi : 703\n",
      "Number of variables removed with strong rule : 2644\n",
      "Number of variables removed with safe rule : 65\n"
     ]
    },
    {
     "data": {
      "image/png": "[encoded data removed]",
      "text/plain": [
       "<Figure size 864x576 with 1 Axes>"
      ]
     },
     "metadata": {
      "needs_background": "light"
     },
     "output_type": "display_data"
    },
    {
     "data": {
      "image/png": "[encoded data removed]",
      "text/plain": [
       "<Figure size 864x576 with 1 Axes>"
      ]
     },
     "metadata": {
      "needs_background": "light"
     },
     "output_type": "display_data"
    }
   ],
   "source": [
    "Tsasvi,Tnormal,Tstrong,Tsafe,nb_removed_sasvi,nb_removed_strong,nb_removed_safe=test_method(X,y, λ, λ_max,True)\n",
    "plot_res(Tsasvi,Tnormal,Tstrong,Tsafe,nb_removed_sasvi,nb_removed_strong,nb_removed_safe,λ, λ_max,p)"
   ]
  }
 ],
 "metadata": {
  "kernelspec": {
   "display_name": "Python 3",
   "language": "python",
   "name": "python3"
  },
  "language_info": {
   "codemirror_mode": {
    "name": "ipython",
    "version": 3
   },
   "file_extension": ".py",
   "mimetype": "text/x-python",
   "name": "python",
   "nbconvert_exporter": "python",
   "pygments_lexer": "ipython3",
   "version": "3.8.7"
  }
 },
 "nbformat": 4,
 "nbformat_minor": 4
}
